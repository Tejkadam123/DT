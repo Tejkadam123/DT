{
 "cells": [
  {
   "cell_type": "code",
   "execution_count": null,
   "id": "c5081ba8",
   "metadata": {},
   "outputs": [],
   "source": [
    "### Step DS Project \n",
    "1. Probelm Statement [formalate ]\n",
    "2. Data Gathering [Database SQL, NOSQL]\n",
    "3. EDA [outliers, missing values, how to check distribution]\n",
    "4. Feature Engineeiring (Data cleaning, imputation, Transformation)\n",
    "5. Feature Selection (domain know)\n",
    "6. Model Training [Linear, Logistic, KNN, DT]\n",
    "7. Model Evaluatiuon [Reg, clf]\n",
    "8. API Creation & Testing [Flask]\n",
    "9. Deployment [AWS]"
   ]
  }
 ],
 "metadata": {
  "kernelspec": {
   "display_name": "Python 3 (ipykernel)",
   "language": "python",
   "name": "python3"
  },
  "language_info": {
   "codemirror_mode": {
    "name": "ipython",
    "version": 3
   },
   "file_extension": ".py",
   "mimetype": "text/x-python",
   "name": "python",
   "nbconvert_exporter": "python",
   "pygments_lexer": "ipython3",
   "version": "3.10.4"
  }
 },
 "nbformat": 4,
 "nbformat_minor": 5
}
